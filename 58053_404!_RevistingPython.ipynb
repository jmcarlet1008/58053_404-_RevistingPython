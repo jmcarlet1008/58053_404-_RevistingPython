{
  "nbformat": 4,
  "nbformat_minor": 0,
  "metadata": {
    "colab": {
      "name": "Revisiting Python",
      "provenance": [],
      "collapsed_sections": [],
      "include_colab_link": true
    },
    "kernelspec": {
      "name": "python3",
      "display_name": "Python 3"
    }
  },
  "cells": [
    {
      "cell_type": "markdown",
      "metadata": {
        "id": "view-in-github",
        "colab_type": "text"
      },
      "source": [
        "<a href=\"https://colab.research.google.com/github/jmcarlet1008/58053_404-_RevistingPython/blob/main/58053_404!_RevistingPython.ipynb\" target=\"_parent\"><img src=\"https://colab.research.google.com/assets/colab-badge.svg\" alt=\"Open In Colab\"/></a>"
      ]
    },
    {
      "cell_type": "markdown",
      "metadata": {
        "id": "QnAdk8hy7Bl9"
      },
      "source": [
        "# Welcome to Python Fundamentals\r\n",
        "By:\r\n",
        "    *Carlet, Johnmhyr D.\r\n",
        "    Cerbito, Alyssa Joyce J.\r\n",
        "    Datay, Danica Mae L.\r\n",
        "    Tagalog, Flor-ann B.*\r\n",
        "    © 2021 \r\n",
        "    \r\n",
        "In this module, we are going to establish or review our skills in Python programming. In this notebook we are going to cover:\r\n",
        "* Variables and Data Types \r\n",
        "* Operations\r\n",
        "* Input and Output Operations\r\n",
        "* Logic Control\r\n",
        "* Iterables\r\n",
        "* Functions"
      ]
    },
    {
      "cell_type": "code",
      "metadata": {
        "id": "E3t4m9FetxO2"
      },
      "source": [
        ""
      ],
      "execution_count": null,
      "outputs": []
    },
    {
      "cell_type": "markdown",
      "metadata": {
        "id": "T6ABRAjTT1Ta"
      },
      "source": [
        "## Variable and Data Types\r\n",
        "\r\n",
        "Variable is any placeholder used to contain or represent a given value. Additionally, a variable is a data item whose value can change during the program's execution. Thus, as its name implies - the value can vary [1]. Data type, as it names indicates, dictates what kind of data the variable holds.\r\n",
        "If a variable holds a text string, the data type will be String however, if a variable contains whole numbers, the data type will be Integer.\r\n",
        "\r\n",
        "The following are more examples of data type that variables can hold:\r\n",
        "\r\n",
        "\r\n",
        "*   Boolean - True or False Value\r\n",
        "*   Float - Numbers with decimals\r\n"
      ]
    },
    {
      "cell_type": "code",
      "metadata": {
        "id": "G8JI3DTZ616F",
        "colab": {
          "base_uri": "https://localhost:8080/",
          "height": 35
        },
        "outputId": "cb0e8449-dd93-45c2-b8de-5081e480b33d"
      },
      "source": [
        "name = \"Group 404!\"\r\n",
        "name"
      ],
      "execution_count": null,
      "outputs": [
        {
          "output_type": "execute_result",
          "data": {
            "application/vnd.google.colaboratory.intrinsic+json": {
              "type": "string"
            },
            "text/plain": [
              "'Group 404!'"
            ]
          },
          "metadata": {
            "tags": []
          },
          "execution_count": 1
        }
      ]
    },
    {
      "cell_type": "code",
      "metadata": {
        "id": "QLT9rz2dUJ95",
        "colab": {
          "base_uri": "https://localhost:8080/"
        },
        "outputId": "7476ac7a-bc9f-489d-9eec-1c5499463393"
      },
      "source": [
        "type(name)"
      ],
      "execution_count": null,
      "outputs": [
        {
          "output_type": "execute_result",
          "data": {
            "text/plain": [
              "str"
            ]
          },
          "metadata": {
            "tags": []
          },
          "execution_count": 2
        }
      ]
    },
    {
      "cell_type": "markdown",
      "metadata": {
        "id": "NbLHDTtkyE63"
      },
      "source": [
        "The codes presented above show the variable 'name' where it contains the data \"Group 404!\", and in the second line, it denotes what kind of data type the user entered. When a user wants to assign a *string data type*, you must not forget to place quotation marks before and after the word to avoid errors. Quotation marks is a sign that the user is using a *string data type*\r\n"
      ]
    },
    {
      "cell_type": "code",
      "metadata": {
        "id": "TR_rvX4SUWqx",
        "colab": {
          "base_uri": "https://localhost:8080/"
        },
        "outputId": "c5f9ce7e-9ac1-484e-c463-bf8dbf540669"
      },
      "source": [
        "student_no = 201815222\r\n",
        "type(student_no)"
      ],
      "execution_count": null,
      "outputs": [
        {
          "output_type": "execute_result",
          "data": {
            "text/plain": [
              "int"
            ]
          },
          "metadata": {
            "tags": []
          },
          "execution_count": 3
        }
      ]
    },
    {
      "cell_type": "markdown",
      "metadata": {
        "id": "6xP_yFu6x-Ck"
      },
      "source": [
        "\r\n",
        "The code above shows an *integer data type*. To assign an *integer data type* to your data, the user should enter a whole number without any decimal and quotation marks. The program would be able to identify it rapidly that it is an *integer*"
      ]
    },
    {
      "cell_type": "code",
      "metadata": {
        "id": "FqV2upOiXcnC",
        "colab": {
          "base_uri": "https://localhost:8080/"
        },
        "outputId": "a29f255d-eee0-4162-da2c-332d559d76a8"
      },
      "source": [
        "fact = True\r\n",
        "type(fact)"
      ],
      "execution_count": null,
      "outputs": [
        {
          "output_type": "execute_result",
          "data": {
            "text/plain": [
              "bool"
            ]
          },
          "metadata": {
            "tags": []
          },
          "execution_count": 4
        }
      ]
    },
    {
      "cell_type": "markdown",
      "metadata": {
        "id": "MHjCMnhMyNKn"
      },
      "source": [
        "The code above shows a *boolean data type*. A *boolean data type* denotes a true and false value. *Boolean data type* is usually used in condition statements or to questions that answers yes or no. The program will identify the data as Boolean when there are no quotation marks and if the user input \"True\" and \"False\" data where the first letter is in their capital form only.\r\n",
        "\r\n"
      ]
    },
    {
      "cell_type": "code",
      "metadata": {
        "id": "2tuyqwmyXiDb",
        "colab": {
          "base_uri": "https://localhost:8080/"
        },
        "outputId": "ddd1e6ac-d58a-4126-94cd-6ed3e94ab8ea"
      },
      "source": [
        "dollar, peso, x = 1, 48.50, \"Convertion\"\r\n",
        "type(dollar)"
      ],
      "execution_count": null,
      "outputs": [
        {
          "output_type": "execute_result",
          "data": {
            "text/plain": [
              "int"
            ]
          },
          "metadata": {
            "tags": []
          },
          "execution_count": 5
        }
      ]
    },
    {
      "cell_type": "code",
      "metadata": {
        "id": "6JwWqHx3XlmB",
        "colab": {
          "base_uri": "https://localhost:8080/"
        },
        "outputId": "6f2b78e8-c394-4c6a-dccb-dbca37fe01b4"
      },
      "source": [
        "type(peso)"
      ],
      "execution_count": null,
      "outputs": [
        {
          "output_type": "execute_result",
          "data": {
            "text/plain": [
              "float"
            ]
          },
          "metadata": {
            "tags": []
          },
          "execution_count": 6
        }
      ]
    },
    {
      "cell_type": "markdown",
      "metadata": {
        "id": "yvfLZeCv0MR3"
      },
      "source": [
        "Users can also input as many variables they want in a single line containing their respective data. "
      ]
    },
    {
      "cell_type": "markdown",
      "metadata": {
        "id": "9RgPwQR4YVG5"
      },
      "source": [
        "## Operations"
      ]
    },
    {
      "cell_type": "markdown",
      "metadata": {
        "id": "mvoS_zuJYbsg"
      },
      "source": [
        "### Arithmetic\r\n",
        "\r\n",
        "Aritmetic or Arithmetic operators are used to perform mathematical operation such as addition, subtraction, multiplication, division, etc., [5]"
      ]
    },
    {
      "cell_type": "code",
      "metadata": {
        "id": "DSjUO0KcYoE-"
      },
      "source": [
        " ## putting values on variable z, x, c, and v.\r\n",
        "z, x, c, v = -56, 2.5, -20, 5"
      ],
      "execution_count": null,
      "outputs": []
    },
    {
      "cell_type": "code",
      "metadata": {
        "id": "o_kk0XFzYX9o",
        "colab": {
          "base_uri": "https://localhost:8080/"
        },
        "outputId": "007a1873-9126-4df3-a33c-8410e5358aaa"
      },
      "source": [
        "#Addition\r\n",
        "a = c + z + x\r\n",
        "a"
      ],
      "execution_count": null,
      "outputs": [
        {
          "output_type": "execute_result",
          "data": {
            "text/plain": [
              "-73.5"
            ]
          },
          "metadata": {
            "tags": []
          },
          "execution_count": 10
        }
      ]
    },
    {
      "cell_type": "markdown",
      "metadata": {
        "id": "nyXg_NiI6Gnv"
      },
      "source": [
        "' + ' is an arithmetic operator that adding 2 or more operands. [5]"
      ]
    },
    {
      "cell_type": "code",
      "metadata": {
        "id": "TC5oFq3MY4jk",
        "colab": {
          "base_uri": "https://localhost:8080/"
        },
        "outputId": "039b28a6-afbb-4e2e-a414-8d4e50a96845"
      },
      "source": [
        "#Subtraction\r\n",
        "s = c - v - z\r\n",
        "s"
      ],
      "execution_count": null,
      "outputs": [
        {
          "output_type": "execute_result",
          "data": {
            "text/plain": [
              "31"
            ]
          },
          "metadata": {
            "tags": []
          },
          "execution_count": 11
        }
      ]
    },
    {
      "cell_type": "markdown",
      "metadata": {
        "id": "R9YUr-6Q6Op_"
      },
      "source": [
        "' - ' is an arithmetic operator that subtract 2 or more operands. [5]"
      ]
    },
    {
      "cell_type": "code",
      "metadata": {
        "id": "j0bGayj5Y9wr",
        "colab": {
          "base_uri": "https://localhost:8080/"
        },
        "outputId": "71b04cb7-1cde-49b7-a624-e11fedac8b86"
      },
      "source": [
        "#Multiplication\r\n",
        "m = x * c * c\r\n",
        "m"
      ],
      "execution_count": null,
      "outputs": [
        {
          "output_type": "execute_result",
          "data": {
            "text/plain": [
              "1000.0"
            ]
          },
          "metadata": {
            "tags": []
          },
          "execution_count": 12
        }
      ]
    },
    {
      "cell_type": "markdown",
      "metadata": {
        "id": "1aNHMl5X6RnB"
      },
      "source": [
        "' * ' is an arithmetic operator that multiply 2 or more operands. [5]"
      ]
    },
    {
      "cell_type": "code",
      "metadata": {
        "id": "FnMWmq5LZLEU",
        "colab": {
          "base_uri": "https://localhost:8080/"
        },
        "outputId": "442c4ab1-09d4-4601-ee16-abbab14cd475"
      },
      "source": [
        "#Division\r\n",
        "d = z/x\r\n",
        "d"
      ],
      "execution_count": null,
      "outputs": [
        {
          "output_type": "execute_result",
          "data": {
            "text/plain": [
              "-22.4"
            ]
          },
          "metadata": {
            "tags": []
          },
          "execution_count": 13
        }
      ]
    },
    {
      "cell_type": "markdown",
      "metadata": {
        "id": "H_pHQM446X_b"
      },
      "source": [
        "' / ' is an arithmetic operator that divide the first operand to the second operand. [5]"
      ]
    },
    {
      "cell_type": "code",
      "metadata": {
        "id": "cQeVcFIWZd8o",
        "colab": {
          "base_uri": "https://localhost:8080/"
        },
        "outputId": "b6e881c0-8f82-4504-8a93-2f74acbc5a25"
      },
      "source": [
        "#Floor Division\r\n",
        "f = z//x\r\n",
        "f"
      ],
      "execution_count": null,
      "outputs": [
        {
          "output_type": "execute_result",
          "data": {
            "text/plain": [
              "-23.0"
            ]
          },
          "metadata": {
            "tags": []
          },
          "execution_count": 14
        }
      ]
    },
    {
      "cell_type": "markdown",
      "metadata": {
        "id": "Pq-xqeeM6bvv"
      },
      "source": [
        "' // ' is an arithmetic operator that divide the first operand to the second operand. The difference of division to floor division is that the result of floor division is a whole number [5]. If the decimal is 1-4, the answer will rounded off but if the decimal is 5-9, the answer will not rounded off."
      ]
    },
    {
      "cell_type": "code",
      "metadata": {
        "id": "YLaUu6APZSzR",
        "colab": {
          "base_uri": "https://localhost:8080/"
        },
        "outputId": "e33ea03a-4902-4a18-c6c6-5f684ccace96"
      },
      "source": [
        "#Exponentiation\r\n",
        "e = v**x\r\n",
        "e"
      ],
      "execution_count": null,
      "outputs": [
        {
          "output_type": "execute_result",
          "data": {
            "text/plain": [
              "55.90169943749474"
            ]
          },
          "metadata": {
            "tags": []
          },
          "execution_count": 15
        }
      ]
    },
    {
      "cell_type": "markdown",
      "metadata": {
        "id": "AlIBoHo16glO"
      },
      "source": [
        "' ** ' is an arithmetic operator that raise the second operand to the first operand. [5]"
      ]
    },
    {
      "cell_type": "code",
      "metadata": {
        "id": "uf_0sf4CZ1JT",
        "colab": {
          "base_uri": "https://localhost:8080/"
        },
        "outputId": "cf4816be-bc71-4de0-aa12-358fc4775178"
      },
      "source": [
        "#Modulo\r\n",
        "M = c%v\r\n",
        "M"
      ],
      "execution_count": null,
      "outputs": [
        {
          "output_type": "execute_result",
          "data": {
            "text/plain": [
              "0"
            ]
          },
          "metadata": {
            "tags": []
          },
          "execution_count": 16
        }
      ]
    },
    {
      "cell_type": "markdown",
      "metadata": {
        "id": "61JAMnhI6jum"
      },
      "source": [
        "' % ' is an arithmetic operator that returns the remainder when first operand is divided by the second operand."
      ]
    },
    {
      "cell_type": "markdown",
      "metadata": {
        "id": "afyWvb1ZaJJ6"
      },
      "source": [
        "### Assignment Operations\r\n",
        "\r\n",
        "Assignment operators are used to assigning values to existing variable. [6]"
      ]
    },
    {
      "cell_type": "code",
      "metadata": {
        "id": "rMZ8r4WhanaE"
      },
      "source": [
        "## putting values on variable U, I, O, and P.\r\n",
        "U, I, O, P = 9, 72, 17, 3"
      ],
      "execution_count": null,
      "outputs": []
    },
    {
      "cell_type": "code",
      "metadata": {
        "id": "IX0EbJ8RaMih",
        "colab": {
          "base_uri": "https://localhost:8080/"
        },
        "outputId": "63973ef3-8520-4e9d-d12d-bc6649332f4d"
      },
      "source": [
        "U += v\r\n",
        "U"
      ],
      "execution_count": null,
      "outputs": [
        {
          "output_type": "execute_result",
          "data": {
            "text/plain": [
              "14"
            ]
          },
          "metadata": {
            "tags": []
          },
          "execution_count": 18
        }
      ]
    },
    {
      "cell_type": "markdown",
      "metadata": {
        "id": "hV3nHYZR6xaj"
      },
      "source": [
        "This operator add the value of variable U which is 9 to the value of variable v which is 5 then assign the answer to variable U."
      ]
    },
    {
      "cell_type": "code",
      "metadata": {
        "id": "aIj4hA-JaRA0",
        "colab": {
          "base_uri": "https://localhost:8080/"
        },
        "outputId": "0285167b-b5f3-4f52-d6e8-5a7c479d80cc"
      },
      "source": [
        "I -= c\r\n",
        "I"
      ],
      "execution_count": null,
      "outputs": [
        {
          "output_type": "execute_result",
          "data": {
            "text/plain": [
              "92"
            ]
          },
          "metadata": {
            "tags": []
          },
          "execution_count": 19
        }
      ]
    },
    {
      "cell_type": "markdown",
      "metadata": {
        "id": "ds9lXbkB61vj"
      },
      "source": [
        "This operator subtract the value of variable I which is 72 to the value of variable c which is -20 then assign the answer to variable I."
      ]
    },
    {
      "cell_type": "code",
      "metadata": {
        "id": "vuuDbAbNaXgS",
        "colab": {
          "base_uri": "https://localhost:8080/"
        },
        "outputId": "33f82e47-e721-4e0d-9d5d-57baf90546ef"
      },
      "source": [
        "O *= x\r\n",
        "O"
      ],
      "execution_count": null,
      "outputs": [
        {
          "output_type": "execute_result",
          "data": {
            "text/plain": [
              "42.5"
            ]
          },
          "metadata": {
            "tags": []
          },
          "execution_count": 20
        }
      ]
    },
    {
      "cell_type": "markdown",
      "metadata": {
        "id": "rJTOMPz764Rt"
      },
      "source": [
        "This operator multiply the value of variable O which is 17 to the value of variable x which is 2.5 then assign the answer to variable O."
      ]
    },
    {
      "cell_type": "code",
      "metadata": {
        "id": "sGVXGduUaeAj",
        "colab": {
          "base_uri": "https://localhost:8080/"
        },
        "outputId": "d11440b6-4053-4532-8c21-32e03fb35221"
      },
      "source": [
        "P **= z\r\n",
        "P"
      ],
      "execution_count": null,
      "outputs": [
        {
          "output_type": "execute_result",
          "data": {
            "text/plain": [
              "1.910775814949984e-27"
            ]
          },
          "metadata": {
            "tags": []
          },
          "execution_count": 21
        }
      ]
    },
    {
      "cell_type": "markdown",
      "metadata": {
        "id": "xalfAJwP69Ra"
      },
      "source": [
        "This operator raise the value of variable z which is -56 to the value of variable P which is 3 then assign the answer to variable P."
      ]
    },
    {
      "cell_type": "markdown",
      "metadata": {
        "id": "UGXuqhVNbW7R"
      },
      "source": [
        "### Comparators\r\n",
        "\r\n",
        "Comparators or **Comparison Operators**, sometimes being called as **Relational Operators**, uses the two values on its both sides and compare them to get the relation between them. [4]"
      ]
    },
    {
      "cell_type": "code",
      "metadata": {
        "id": "Oj9xLaEaYeuY"
      },
      "source": [
        "a, b, c = 2, 3, 2"
      ],
      "execution_count": null,
      "outputs": []
    },
    {
      "cell_type": "markdown",
      "metadata": {
        "id": "toX-V3B61hP2"
      },
      "source": [
        "After initializing the variables, we will proceed to exploring the different *comparators*.\r\n",
        "\r\n",
        "First, is the equality:"
      ]
    },
    {
      "cell_type": "code",
      "metadata": {
        "id": "GEXm6RSsbA8Q",
        "colab": {
          "base_uri": "https://localhost:8080/"
        },
        "outputId": "3fbbce94-333b-4d0c-949f-e711442ae9d9"
      },
      "source": [
        "## Equality\r\n",
        "if (a == c):\r\n",
        "  print('equal')\r\n",
        "else:\r\n",
        "  print('not equal')"
      ],
      "execution_count": null,
      "outputs": [
        {
          "output_type": "stream",
          "text": [
            "equal\n"
          ],
          "name": "stdout"
        }
      ]
    },
    {
      "cell_type": "markdown",
      "metadata": {
        "id": "JlatXmiw1mM4"
      },
      "source": [
        "We can observe in the code snippet above, that the if statement asks if the two variables are equal and returns a true value if it is."
      ]
    },
    {
      "cell_type": "code",
      "metadata": {
        "id": "SdHk_b58bZhD",
        "colab": {
          "base_uri": "https://localhost:8080/"
        },
        "outputId": "d7b33668-a032-4053-c39a-2ace98be4e3e"
      },
      "source": [
        "## Non-equality\r\n",
        "if (a != b):\r\n",
        "  print('not equal')\r\n",
        "else:\r\n",
        "  print('dunno')"
      ],
      "execution_count": null,
      "outputs": [
        {
          "output_type": "stream",
          "text": [
            "not equal\n"
          ],
          "name": "stdout"
        }
      ]
    },
    {
      "cell_type": "markdown",
      "metadata": {
        "id": "AtnFSw7r1qyH"
      },
      "source": [
        "While here on the inequality, the if statement resulted in a non equal value which used the code inside the if statement and printed a *'not equal'* result."
      ]
    },
    {
      "cell_type": "code",
      "metadata": {
        "id": "EnA4q50JbQB5",
        "colab": {
          "base_uri": "https://localhost:8080/"
        },
        "outputId": "57d3b2ba-a0d2-4cc0-a9d1-ebd6d3edc518"
      },
      "source": [
        "## Inequality\r\n",
        "if (a < b):\r\n",
        "  print(a,'is less than',b)\r\n",
        "else:\r\n",
        "  print(a,'is not less than obv',b)\r\n",
        "\r\n",
        "if (b > a):\r\n",
        "  print(b,'is greater than',a)\r\n",
        "else:\r\n",
        "  print(b,'is not greater than obv',b)\r\n"
      ],
      "execution_count": null,
      "outputs": [
        {
          "output_type": "stream",
          "text": [
            "2 is less than 3\n",
            "3 is greater than 2\n"
          ],
          "name": "stdout"
        }
      ]
    },
    {
      "cell_type": "markdown",
      "metadata": {
        "id": "cNYT3NE-1v9j"
      },
      "source": [
        "Here in exploring the two types of Inequality which is the greater than and the less than, the two values in the variables being used are 2 and 3, which are being illustrated where one is less than or smaller and on the another statement one is greater than or bigger.\r\n",
        "\r\n",
        "The same conclusion can be stated in the code below where the only thing that varies is that it also checks if the value is equal to each other.\r\n"
      ]
    },
    {
      "cell_type": "code",
      "metadata": {
        "id": "Tpvbk34l1zWT",
        "colab": {
          "base_uri": "https://localhost:8080/"
        },
        "outputId": "0a0c462f-2603-49cc-bb3e-647abe2de40f"
      },
      "source": [
        "## Inequality and Equality\r\n",
        "if (a <= c):\r\n",
        "  print(a,'is less than or equal',c)\r\n",
        "else:\r\n",
        "  print(a,'is not less than obv',c)\r\n",
        "\r\n",
        "if (b >= a):\r\n",
        "  print(b,'is greater than or equal',a)\r\n",
        "else:\r\n",
        "  print(b,'is not greater than obv',b)"
      ],
      "execution_count": null,
      "outputs": [
        {
          "output_type": "stream",
          "text": [
            "2 is less than or equal 2\n",
            "3 is greater than or equal 2\n"
          ],
          "name": "stdout"
        }
      ]
    },
    {
      "cell_type": "markdown",
      "metadata": {
        "id": "9WkfdvbfcC1Y"
      },
      "source": [
        "### Logical\r\n",
        "\r\n",
        "Operators are used to perform operations on values and variables. These are the special symbols that carry out arithmetic and logical computations. The value the operator operates on is known as Operand. [8]"
      ]
    },
    {
      "cell_type": "code",
      "metadata": {
        "id": "cYVG6YeNb-Gz",
        "colab": {
          "base_uri": "https://localhost:8080/"
        },
        "outputId": "a8d1d564-14ca-47ad-ceea-11858a0cee64"
      },
      "source": [
        "b, n = 1, 1\r\n",
        "if b and n:\r\n",
        "  print(\"True\")\r\n",
        "else:\r\n",
        "  print(\"False\")"
      ],
      "execution_count": null,
      "outputs": [
        {
          "output_type": "stream",
          "text": [
            "True\n"
          ],
          "name": "stdout"
        }
      ]
    },
    {
      "cell_type": "markdown",
      "metadata": {
        "id": "ZhemQJ78S60h"
      },
      "source": [
        "' and ' is a logical operator that will give you an output 'True' if the given input is both true. In layman's term,\r\n",
        "\r\n",
        "\r\n",
        "\r\n",
        "1.   1 & 1 = 1\r\n",
        "2.   1 & 0 = 0\r\n",
        "3.   0 & 1 = 0\r\n",
        "4.   0 & 0 = 0\r\n",
        "\r\n",
        "\r\n",
        "As you can see at the code snippet above, the value of variables is both true, so the given output is True.\r\n",
        "\r\n",
        "Note: In logical Operations, 1 is True and 0 is False."
      ]
    },
    {
      "cell_type": "code",
      "metadata": {
        "id": "rLe6hpkHcN-z",
        "colab": {
          "base_uri": "https://localhost:8080/"
        },
        "outputId": "be6d0f75-4770-44d6-f6a1-e96f43c415d7"
      },
      "source": [
        "m, Y = 1, 0\r\n",
        "if m or Y:\r\n",
        "  print(\"True\")\r\n",
        "else:\r\n",
        "  print(\"False\")"
      ],
      "execution_count": null,
      "outputs": [
        {
          "output_type": "stream",
          "text": [
            "True\n"
          ],
          "name": "stdout"
        }
      ]
    },
    {
      "cell_type": "markdown",
      "metadata": {
        "id": "0xVORJRxS_XR"
      },
      "source": [
        "' or ' is a logical operator that will give you an output 'True' if one or both given input is true. In layman's term,\r\n",
        "\r\n",
        "\r\n",
        "\r\n",
        "1.   1 & 1 = 1\r\n",
        "2.   1 & 0 = 1\r\n",
        "3.   0 & 1 = 1\r\n",
        "4.   0 & 0 = 0\r\n",
        "\r\n",
        "\r\n",
        "As you can see at the code snippet above, the value of variables are true and false, so the given output is True.\r\n",
        "\r\n",
        "Note: In logical Operations, 1 is True and 0 is False."
      ]
    },
    {
      "cell_type": "code",
      "metadata": {
        "id": "tr5qxHQmcO-C",
        "colab": {
          "base_uri": "https://localhost:8080/"
        },
        "outputId": "9ae75a96-cda5-4d6a-e501-205fa36de27f"
      },
      "source": [
        "T, D = 0, 1\r\n",
        "if not(T and D):\r\n",
        "  print(\"True\")\r\n",
        "else:\r\n",
        "  print(\"False\")"
      ],
      "execution_count": null,
      "outputs": [
        {
          "output_type": "stream",
          "text": [
            "True\n"
          ],
          "name": "stdout"
        }
      ]
    },
    {
      "cell_type": "markdown",
      "metadata": {
        "id": "njHNNj5eTEqD"
      },
      "source": [
        "' nand ' is a logical operator that will invert the given value of 'and' give you an output 'False' if the given input is both True. In layman's term,\r\n",
        "\r\n",
        "\r\n",
        "\r\n",
        "1.   1 & 1 = 0\r\n",
        "2.   1 & 0 = 1\r\n",
        "3.   0 & 1 = 1\r\n",
        "4.   0 & 0 = 1\r\n",
        "\r\n",
        "\r\n",
        "As you can see at the code snippet above, the value of variables are false and true, so the given output is True. If you will notice, the given list on 'and' operator is inverted on 'nand' operator.\r\n",
        "\r\n",
        "Note: In logical Operations, 1 is True and 0 is False."
      ]
    },
    {
      "cell_type": "code",
      "metadata": {
        "id": "3GU72N-Gcslz",
        "colab": {
          "base_uri": "https://localhost:8080/"
        },
        "outputId": "087bb3e0-1ae9-407b-e94e-833b6ecc09b2"
      },
      "source": [
        "K, M = 0, 0\r\n",
        "if not(K or M):\r\n",
        "  print(\"True\")\r\n",
        "else:\r\n",
        "  print(\"False\")"
      ],
      "execution_count": null,
      "outputs": [
        {
          "output_type": "stream",
          "text": [
            "True\n"
          ],
          "name": "stdout"
        }
      ]
    },
    {
      "cell_type": "markdown",
      "metadata": {
        "id": "ohyyWz7BTIxU"
      },
      "source": [
        "' nor ' is a logical operator that will invert the given value of 'or' give you an output 'True' if the given input is both False. In layman's term,\r\n",
        "\r\n",
        "\r\n",
        "\r\n",
        "1.   1 & 1 = 0\r\n",
        "2.   1 & 0 = 0\r\n",
        "3.   0 & 1 = 0\r\n",
        "4.   0 & 0 = 1\r\n",
        "\r\n",
        "\r\n",
        "As you can see at the code snippet above, the value of variables are both false, so the given output is True. If you will notice, the given list on 'or' operator is inverted on 'nor' operator.\r\n",
        "\r\n",
        "Note: In logical Operations, 1 is True and 0 is False."
      ]
    },
    {
      "cell_type": "markdown",
      "metadata": {
        "id": "AQx4DKafYffJ"
      },
      "source": [
        "### I/O\r\n",
        "\r\n",
        "Using Input and Output Operations helps the developer on how we can take inputs from users and how to show it to them. Since there are program that requires a data from users. "
      ]
    },
    {
      "cell_type": "code",
      "metadata": {
        "id": "Q-DVERG5Yk9w",
        "colab": {
          "base_uri": "https://localhost:8080/",
          "height": 52
        },
        "outputId": "e5de9152-78fe-47ee-9ca3-5fdb286f37cc"
      },
      "source": [
        "crush = input(\"enter the name of your crush: \")\r\n",
        "crush"
      ],
      "execution_count": null,
      "outputs": [
        {
          "output_type": "stream",
          "text": [
            "enter the name of your crush: Nishimura Riki\n"
          ],
          "name": "stdout"
        },
        {
          "output_type": "execute_result",
          "data": {
            "application/vnd.google.colaboratory.intrinsic+json": {
              "type": "string"
            },
            "text/plain": [
              "'Nishimura Riki'"
            ]
          },
          "metadata": {
            "tags": []
          },
          "execution_count": 31
        }
      ]
    },
    {
      "cell_type": "markdown",
      "metadata": {
        "id": "tLgRAzdsIVJb"
      },
      "source": [
        "In the example above, given the variable \"crush\" whatever the user input, it will automatically print the input.  "
      ]
    },
    {
      "cell_type": "code",
      "metadata": {
        "id": "fS5wN51beSVF",
        "colab": {
          "base_uri": "https://localhost:8080/"
        },
        "outputId": "7d318253-5787-491b-9497-5ea0bb6e22d0"
      },
      "source": [
        "score = 89.1234\r\n",
        "name = \"Harry\"\r\n",
        "print(\"Hello {}, your semestral grade is: {}\".format(name, score))"
      ],
      "execution_count": null,
      "outputs": [
        {
          "output_type": "stream",
          "text": [
            "Hello Harry, your semestral grade is: 89.1234\n"
          ],
          "name": "stdout"
        }
      ]
    },
    {
      "cell_type": "markdown",
      "metadata": {
        "id": "dZ16xh6fIatL"
      },
      "source": [
        "In this example given the variables score and name, so whatever the user input to these variables it will appear once you run it. The .format() function is used to format values and insert them to inside the string placeholder."
      ]
    },
    {
      "cell_type": "markdown",
      "metadata": {
        "id": "i0g3EothhvqL"
      },
      "source": [
        "# Looping Statements\r\n",
        "\r\n",
        "Looping statements are a series of steps that will continuously run or execute until the given condition is satisfied [7]. There are two primitive loop commands that are available in python.\r\n",
        "\r\n",
        "The following are:\r\n",
        "\r\n",
        "*   While Loop\r\n",
        "*   For Loop\r\n",
        "\r\n"
      ]
    },
    {
      "cell_type": "markdown",
      "metadata": {
        "id": "j4w90VAIjcFJ"
      },
      "source": [
        "## While\r\n",
        "\r\n",
        "*While Loop Statement* will run until the statement is proven true."
      ]
    },
    {
      "cell_type": "code",
      "metadata": {
        "id": "4vtSrBPThlse",
        "colab": {
          "base_uri": "https://localhost:8080/"
        },
        "outputId": "0c132b05-aeb9-4a88-c4ab-117109a6a706"
      },
      "source": [
        "## while loops\r\n",
        "x = 1\r\n",
        "while (x <= 20):\r\n",
        "  if x % 2 == 0:\r\n",
        "     print(x,\" is an even number\")\r\n",
        "  else: \r\n",
        "     print(x,\" is an odd number\")\r\n",
        "  x += 1"
      ],
      "execution_count": null,
      "outputs": [
        {
          "output_type": "stream",
          "text": [
            "1  is an odd number\n",
            "2  is an even number\n",
            "3  is an odd number\n",
            "4  is an even number\n",
            "5  is an odd number\n",
            "6  is an even number\n",
            "7  is an odd number\n",
            "8  is an even number\n",
            "9  is an odd number\n",
            "10  is an even number\n",
            "11  is an odd number\n",
            "12  is an even number\n",
            "13  is an odd number\n",
            "14  is an even number\n",
            "15  is an odd number\n",
            "16  is an even number\n",
            "17  is an odd number\n",
            "18  is an even number\n",
            "19  is an odd number\n",
            "20  is an even number\n"
          ],
          "name": "stdout"
        }
      ]
    },
    {
      "cell_type": "markdown",
      "metadata": {
        "id": "ges4DHab_3EA"
      },
      "source": [
        "The code above shows that the variable x will continuously execute until it reaches '20'. "
      ]
    },
    {
      "cell_type": "markdown",
      "metadata": {
        "id": "Qz6AH6jRjfUg"
      },
      "source": [
        "## For\r\n",
        "\r\n",
        "*For Loop Statement* is used to repeat a series of statements to a specific number of times."
      ]
    },
    {
      "cell_type": "code",
      "metadata": {
        "id": "q0DUwfRkjZY7",
        "colab": {
          "base_uri": "https://localhost:8080/"
        },
        "outputId": "3915fb75-8a14-4b5c-f98b-14751c1a4aec"
      },
      "source": [
        "for num in range(5):\r\n",
        "   for i in range(num):\r\n",
        "     print(num, end= \" \")\r\n",
        "   print(\" \")\r\n"
      ],
      "execution_count": null,
      "outputs": [
        {
          "output_type": "stream",
          "text": [
            " \n",
            "1  \n",
            "2 2  \n",
            "3 3 3  \n",
            "4 4 4 4  \n"
          ],
          "name": "stdout"
        }
      ]
    },
    {
      "cell_type": "markdown",
      "metadata": {
        "id": "QPUs0eRzE_DU"
      },
      "source": [
        "The code presented above shows the variable x is given the value of 5, this dictates the row and numerical limit of your output. Next, an outer for loop is placed, this is to control over the printing of new lines.\r\n",
        "\r\n",
        "```\r\n",
        "outer for loop\r\n",
        "# for num in range(5):\r\n",
        "```\r\n",
        "\r\n",
        "The inner for loop is used to print the numbers, it should be noted that the limit of printing for the inner loop is limited by the iterable of the outer loop. This is to control the number of outputs the inner loop prints and it will increase as the iterable of the outer loop increases\r\n",
        "\r\n",
        "```\r\n",
        "inner for loop\r\n",
        "# for i in range(num):\r\n",
        "```\r\n",
        "\r\n",
        "Lastly, a new line is printed every time the loop runs 1 time to enter a new line.\r\n",
        "\r\n",
        "---\r\n",
        " Note: iteration - to repeat\r\n"
      ]
    },
    {
      "cell_type": "markdown",
      "metadata": {
        "id": "N6jTqTZojnSg"
      },
      "source": [
        "# Flow Control"
      ]
    },
    {
      "cell_type": "markdown",
      "metadata": {
        "id": "uhnsV2CijrWQ"
      },
      "source": [
        "## Condition Statements\r\n",
        "Condition statements is statement that controls the flow of executing depending on some condition. Unlike other programming language that uses curly brackets, python relies on indention to define the scope of the the line. [2]"
      ]
    },
    {
      "cell_type": "code",
      "metadata": {
        "id": "seJplrJojmTg",
        "colab": {
          "base_uri": "https://localhost:8080/"
        },
        "outputId": "cd519068-ae26-4a8f-c188-6d66a8f6d6a0"
      },
      "source": [
        "answer = input(\"Do read manga?: \")\r\n",
        "\r\n",
        "if(answer == \"yes\"):\r\n",
        "  print(\"sugoi sugoi sugoi\")\r\n",
        "elif(answer == \"no\"):\r\n",
        "     print(\"kanashii-desu\")\r\n",
        "else:\r\n",
        "    print(\"dame yo! dame dame\")"
      ],
      "execution_count": null,
      "outputs": [
        {
          "output_type": "stream",
          "text": [
            "Do read manga?: yes\n",
            "sugoi sugoi sugoi\n"
          ],
          "name": "stdout"
        }
      ]
    },
    {
      "cell_type": "markdown",
      "metadata": {
        "id": "XiPkaaQpzAID"
      },
      "source": [
        "In this example, given the variable \"answer\", the user can input what is their answer based on the question and if the user answer is yes it will print \"sugoi sugoi sugoi\". If the user answer is no then another condition which we use elif keyword it will print \"kanashii-desu\". The else keyword catches anything which isn't caught by the preceding conditions. So if the the user is neither yes or no then it will print \"dame yo! dame dame\". \r\n"
      ]
    },
    {
      "cell_type": "markdown",
      "metadata": {
        "id": "tlnG1OKilNLo"
      },
      "source": [
        "# Functions\r\n",
        "A function is a block of code which only runs when it is called. Allows you to pass data, known as paremeters,into a function and it can also return data as result. \r\n",
        "\r\n",
        "\"def\" is short for define. It is use to define a function so all the code you put between def function_name() and end will be executed every time you call the function_name. [3]"
      ]
    },
    {
      "cell_type": "code",
      "metadata": {
        "id": "1iMUEipnlUKY",
        "colab": {
          "base_uri": "https://localhost:8080/"
        },
        "outputId": "10b788e0-f064-4530-b86b-2c7fd9bbb6b1"
      },
      "source": [
        "def compute_grade():\r\n",
        "    name = input(\"Enter you name: \")\r\n",
        "    course = input(\"Enter the name of the course:\")\r\n",
        "    prelim = float(input(\"Enter prelim grade: \"))\r\n",
        "    midterm = float(input(\"Enter midterm grade: \"))\r\n",
        "    finals = float(input(\"Enter final grade: \"))\r\n",
        "    pg, mg, fg = 0.3, 0.3, 0.4\r\n",
        "    sem_grade = prelim*pg + midterm*mg + finals*fg\r\n",
        "    print(\"Hello {}, your semestral grade is: {}\".format(name, sem_grade))\r\n",
        "    if(sem_grade > 70):\r\n",
        "        print(\"\\U0001F600\")\r\n",
        "    elif(sem_grade==70):\r\n",
        "         print(\"\\U0001F923\")\r\n",
        "    else:\r\n",
        "        print(\"\\U0001F619\")\r\n",
        "compute_grade()"
      ],
      "execution_count": null,
      "outputs": [
        {
          "output_type": "stream",
          "text": [
            "Enter you name: Ni-ki\n",
            "Enter the name of the course:BSCpE\n",
            "Enter prelim grade: 89\n",
            "Enter midterm grade: 95\n",
            "Enter final grade: 86\n",
            "Hello Ni-ki, your semestral grade is: 89.6\n",
            "😀\n"
          ],
          "name": "stdout"
        }
      ]
    },
    {
      "cell_type": "markdown",
      "metadata": {
        "id": "HL55qN4BzP26"
      },
      "source": [
        "Given the code above is an example of graded calculator, where we defined the function compute_grade and perform all the codes inside of it then call the fucntion name at the end of the codes, in order to see output. "
      ]
    },
    {
      "cell_type": "code",
      "metadata": {
        "id": "26PtC1W4zQjN"
      },
      "source": [
        "def subtract(a,b):\r\n",
        "  return a - b;"
      ],
      "execution_count": null,
      "outputs": []
    },
    {
      "cell_type": "code",
      "metadata": {
        "id": "8XdmIQcDzS8Q",
        "colab": {
          "base_uri": "https://localhost:8080/"
        },
        "outputId": "be0dd04e-01ad-44a4-ac25-6d29d816419f"
      },
      "source": [
        "subtract(100, 50)"
      ],
      "execution_count": null,
      "outputs": [
        {
          "output_type": "execute_result",
          "data": {
            "text/plain": [
              "50"
            ]
          },
          "metadata": {
            "tags": []
          },
          "execution_count": 36
        }
      ]
    },
    {
      "cell_type": "markdown",
      "metadata": {
        "id": "5V_OaYvxzUw7"
      },
      "source": [
        "In this example we defined the function subtract which the parameters are a and b, so whatever the values that the user will inputs for a and b it will perform the operation. "
      ]
    },
    {
      "cell_type": "markdown",
      "metadata": {
        "id": "2_tDT01oFEGQ"
      },
      "source": [
        "###**Lambda Functions**\r\n",
        "\r\n",
        "A lambda function is a small anonymous function. It can only have one expression while able to take any number of arguments. [9]\r\n",
        "\r\n",
        "This can be expressed by the syntax:\r\n",
        "\r\n",
        "\r\n",
        "```\r\n",
        "# lambda arguments : expression\r\n",
        "```\r\n",
        "*NOTE: Arguments are not limited to one, it can take multiple variables.*\r\n"
      ]
    },
    {
      "cell_type": "code",
      "metadata": {
        "id": "tmmBNW9pFg-4"
      },
      "source": [
        "def raiseMe(n):\r\n",
        "  return lambda a: a**n"
      ],
      "execution_count": null,
      "outputs": []
    },
    {
      "cell_type": "markdown",
      "metadata": {
        "id": "XZ1e6Ivq2GuX"
      },
      "source": [
        "In this line of code we can see the lambda being used in a function **'raiseMe'**\r\n",
        "and it's expression that raises the argument **'a'** to **'n'** and takes the **'n'** as a multiplier\r\n",
        "\r\n"
      ]
    },
    {
      "cell_type": "code",
      "metadata": {
        "id": "_9KYzCrIFCpI"
      },
      "source": [
        "squared = raiseMe(2)\r\n",
        "cubed = raiseMe(3)"
      ],
      "execution_count": null,
      "outputs": []
    },
    {
      "cell_type": "markdown",
      "metadata": {
        "id": "U4ywHgso2KUO"
      },
      "source": [
        "After creating the initial function. The lambda function are being used and assign into different function that uses the expression, where **squared** function uses the expression inside the function to always raise it into 2 and **cubed** into 3."
      ]
    },
    {
      "cell_type": "code",
      "metadata": {
        "id": "a2uwKwqFFafn",
        "colab": {
          "base_uri": "https://localhost:8080/"
        },
        "outputId": "b0c7414e-4773-4d06-a708-e5667f6c45f7"
      },
      "source": [
        "print(squared(4))\r\n",
        "print(cubed(4))"
      ],
      "execution_count": null,
      "outputs": [
        {
          "output_type": "stream",
          "text": [
            "16\n",
            "64\n"
          ],
          "name": "stdout"
        }
      ]
    },
    {
      "cell_type": "markdown",
      "metadata": {
        "id": "KfAjl9MA2O7d"
      },
      "source": [
        "When the function is being used, the value inside the parenthesis are being raised depending on where it is paired if it will be **squared** or **cubed.**"
      ]
    },
    {
      "cell_type": "markdown",
      "metadata": {
        "id": "kFQuIjtPzgTL"
      },
      "source": [
        "\r\n",
        "\r\n",
        "##References:\r\n",
        "\r\n",
        "[1] Edureka (2021). [**Edureka!: What Are Variables And Data Types In Python?**](https://www.edureka.co/blog/variables-and-data-types-in-python/#:~:text=Range-,What%20Are%20Variables%20In%20Python%3F,future%20according%20to%20the%20specifications.)\r\n",
        "\r\n",
        "[2]  W3 Schools (2021). [***W3 Schools: Python Conditions***](https://www.w3schools.com/python/python_conditions.asp)\r\n",
        "\r\n",
        "[3] W3 Schools (2021). [***W3 Schools: Python Functions***](https://www.w3schools.com/python/python_functions.asp)\r\n",
        "\r\n",
        "[4] Python - basic operators. (n.d.).[**Tutorials Point: Python Comparison Operators**](https://www.tutorialspoint.com/python/python_basic_operators)\r\n",
        "\r\n",
        "[5] GeeksforGeeks (2020). [***GeeksforGeeks: Python Operators***](https://www.geeksforgeeks.org/python-operators/)\r\n",
        "\r\n",
        "[6] GeeksforGeeks (2020). [***GeeksforGeeks: Assignment Operators in Python***](https://www.geeksforgeeks.org/assignment-operators-in-python/)\r\n",
        "\r\n",
        "[7] CheggStudy (2021). [**CheggStudy: Loop Statement**](https://www.chegg.com/homework-help/definitions/loop-statement-3#:~:text=A%20loop%20statement%20is%20a,to%20execute%20the%20statement%20repeatedly.)\r\n",
        "\r\n",
        "[8] GeeksforGeeks (2020). [***GeeksforGeeks: Python Logical Operators with Examples***](https://www.geeksforgeeks.org/python-logical-operators-with-examples-improvement-needed/)\r\n",
        "\r\n",
        "[9]  W3 Schools (2021). [***W3 Schools: Python Lambda***](https://www.w3schools.com/python/python_lambda.asp)\r\n",
        "\r\n",
        "\r\n"
      ]
    }
  ]
}